{
 "cells": [
  {
   "cell_type": "code",
   "execution_count": 30,
   "id": "128bf572",
   "metadata": {},
   "outputs": [],
   "source": [
    "%run './remodelisations/communes.ipynb'\n",
    "%run './remodelisations/dep.ipynb'\n",
    "%run './remodelisations/regions.ipynb'\n"
   ]
  },
  {
   "cell_type": "code",
   "execution_count": 31,
   "id": "f2827bf3",
   "metadata": {},
   "outputs": [],
   "source": [
    "import psycopg2 as postgres"
   ]
  },
  {
   "cell_type": "code",
   "execution_count": 32,
   "id": "a7af7e75",
   "metadata": {},
   "outputs": [],
   "source": [
    "BASE = 'tp_dba'\n",
    "USER = 'axelmoriceau'\n",
    "PSWD = ''\n",
    "\n",
    "conn = postgres.connect(\n",
    "    host='localhost',\n",
    "    database=BASE,\n",
    "    user=USER,\n",
    "    password=PSWD,\n",
    "    port='5432'\n",
    ")\n",
    "\n",
    "cur = conn.cursor()\n"
   ]
  },
  {
   "cell_type": "code",
   "execution_count": 33,
   "id": "cdf2644f",
   "metadata": {},
   "outputs": [],
   "source": [
    "cur.execute('DROP TABLE departements_cheflieu;DROP TABLE regions_cheflieu;DROP TABLE communes;DROP TABLE departements;DROP TABLE regions')\n",
    "conn.commit()"
   ]
  },
  {
   "cell_type": "code",
   "execution_count": 34,
   "id": "b286b167",
   "metadata": {},
   "outputs": [],
   "source": [
    "cur.execute(open(\"sql/create.sql\", \"r\").read())\n",
    "conn.commit()"
   ]
  },
  {
   "cell_type": "code",
   "execution_count": 35,
   "id": "341db9dd",
   "metadata": {},
   "outputs": [],
   "source": [
    "files = [\n",
    "        'regions', \n",
    "        'departements',\n",
    "        'communes',\n",
    "        'departements_cheflieu',\n",
    "        'regions_cheflieu'\n",
    "    ]\n",
    "for file in files:\n",
    "    path = f'./csv/filtered/{file}.csv'\n",
    "    try:\n",
    "        cur.copy_from(open(path, 'r'), file, sep=',')\n",
    "        conn.commit()\n",
    "    except:\n",
    "        pass\n"
   ]
  },
  {
   "cell_type": "code",
   "execution_count": 36,
   "id": "8e1beac4",
   "metadata": {},
   "outputs": [],
   "source": [
    "conn.close()"
   ]
  }
 ],
 "metadata": {
  "kernelspec": {
   "display_name": "Python 3 (ipykernel)",
   "language": "python",
   "name": "python3"
  },
  "language_info": {
   "codemirror_mode": {
    "name": "ipython",
    "version": 3
   },
   "file_extension": ".py",
   "mimetype": "text/x-python",
   "name": "python",
   "nbconvert_exporter": "python",
   "pygments_lexer": "ipython3",
   "version": "3.9.12"
  }
 },
 "nbformat": 4,
 "nbformat_minor": 5
}
