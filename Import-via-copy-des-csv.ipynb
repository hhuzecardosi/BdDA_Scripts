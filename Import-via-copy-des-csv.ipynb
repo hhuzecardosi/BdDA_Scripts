{
 "cells": [
  {
   "cell_type": "code",
   "execution_count": 2,
   "id": "128bf572",
   "metadata": {},
   "outputs": [],
   "source": [
    "%run './remodelisations/communes.ipynb'\n",
    "%run './remodelisations/dep.ipynb'\n",
    "%run './remodelisations/regions.ipynb'\n",
    "%run './remodelisations/statistiques.ipynb' # les stats ont des problèmes avec les fk -> ref vers des code de communes inconnues"
   ]
  },
  {
   "cell_type": "code",
   "execution_count": 29,
   "id": "f2827bf3",
   "metadata": {},
   "outputs": [],
   "source": [
    "import psycopg2 as postgres"
   ]
  },
  {
   "cell_type": "code",
   "execution_count": 30,
   "id": "a7af7e75",
   "metadata": {},
   "outputs": [],
   "source": [
    "BASE = 'tp_dba'\n",
    "USER = 'axelmoriceau'\n",
    "PSWD = ''\n",
    "\n",
    "conn = postgres.connect(\n",
    "    host='localhost',\n",
    "    database=BASE,\n",
    "    user=USER,\n",
    "    password=PSWD,\n",
    "    port='5432'\n",
    ")\n",
    "\n",
    "cur = conn.cursor()\n"
   ]
  },
  {
   "cell_type": "code",
   "execution_count": 31,
   "id": "713d4660",
   "metadata": {},
   "outputs": [],
   "source": [
    "tables = ['departements_cheflieu','regions_cheflieu', 'communes', 'departements', 'regions','indicateurs','statistiques']"
   ]
  },
  {
   "cell_type": "code",
   "execution_count": 32,
   "id": "89459366",
   "metadata": {},
   "outputs": [],
   "source": [
    "# A enlever avant rendu \n",
    "\n",
    "drop_tables = ''\n",
    "for table in tables:\n",
    "    drop_tables += f'DROP TABLE IF EXISTS {table} CASCADE;'\n"
   ]
  },
  {
   "cell_type": "code",
   "execution_count": 33,
   "id": "cdf2644f",
   "metadata": {},
   "outputs": [],
   "source": [
    "cur.execute(drop_tables)\n",
    "conn.commit()"
   ]
  },
  {
   "cell_type": "code",
   "execution_count": 34,
   "id": "b286b167",
   "metadata": {},
   "outputs": [],
   "source": [
    "cur.execute(open(\"sql/create.sql\", \"r\").read())\n",
    "conn.commit()"
   ]
  },
  {
   "cell_type": "code",
   "execution_count": 35,
   "id": "341db9dd",
   "metadata": {},
   "outputs": [
    {
     "ename": "InvalidTextRepresentation",
     "evalue": "invalid input syntax for type numeric: \"\"\nCONTEXT:  COPY statistiques, line 35298, column valeur: \"\"\n",
     "output_type": "error",
     "traceback": [
      "\u001b[0;31m---------------------------------------------------------------------------\u001b[0m",
      "\u001b[0;31mInvalidTextRepresentation\u001b[0m                 Traceback (most recent call last)",
      "\u001b[1;32m/Users/axelmoriceau/dev/cours/BDD_AVANCEE/BdDA_Scripts/Import-via-copy-des-csv.ipynb Cell 8'\u001b[0m in \u001b[0;36m<cell line: 11>\u001b[0;34m()\u001b[0m\n\u001b[1;32m     <a href='vscode-notebook-cell:/Users/axelmoriceau/dev/cours/BDD_AVANCEE/BdDA_Scripts/Import-via-copy-des-csv.ipynb#ch0000007?line=10'>11</a>\u001b[0m \u001b[39mfor\u001b[39;00m file \u001b[39min\u001b[39;00m files:\n\u001b[1;32m     <a href='vscode-notebook-cell:/Users/axelmoriceau/dev/cours/BDD_AVANCEE/BdDA_Scripts/Import-via-copy-des-csv.ipynb#ch0000007?line=11'>12</a>\u001b[0m     path \u001b[39m=\u001b[39m \u001b[39mf\u001b[39m\u001b[39m'\u001b[39m\u001b[39m./csv/filtered/\u001b[39m\u001b[39m{\u001b[39;00mfile\u001b[39m}\u001b[39;00m\u001b[39m.csv\u001b[39m\u001b[39m'\u001b[39m\n\u001b[0;32m---> <a href='vscode-notebook-cell:/Users/axelmoriceau/dev/cours/BDD_AVANCEE/BdDA_Scripts/Import-via-copy-des-csv.ipynb#ch0000007?line=12'>13</a>\u001b[0m     cur\u001b[39m.\u001b[39;49mcopy_from(\u001b[39mopen\u001b[39;49m(path, \u001b[39m'\u001b[39;49m\u001b[39mr\u001b[39;49m\u001b[39m'\u001b[39;49m), file, sep\u001b[39m=\u001b[39;49m\u001b[39m'\u001b[39;49m\u001b[39m,\u001b[39;49m\u001b[39m'\u001b[39;49m)\n\u001b[1;32m     <a href='vscode-notebook-cell:/Users/axelmoriceau/dev/cours/BDD_AVANCEE/BdDA_Scripts/Import-via-copy-des-csv.ipynb#ch0000007?line=13'>14</a>\u001b[0m     conn\u001b[39m.\u001b[39mcommit()\n",
      "\u001b[0;31mInvalidTextRepresentation\u001b[0m: invalid input syntax for type numeric: \"\"\nCONTEXT:  COPY statistiques, line 35298, column valeur: \"\"\n"
     ]
    }
   ],
   "source": [
    "files = [\n",
    "        'regions', \n",
    "        'departements',\n",
    "        'communes',\n",
    "        'departements_cheflieu',\n",
    "        'regions_cheflieu',\n",
    "        'indicateurs',\n",
    "        'statistiques'\n",
    "    ]\n",
    "\n",
    "for file in files:\n",
    "    path = f'./csv/filtered/{file}.csv'\n",
    "    cur.copy_from(open(path, 'r'), file, sep=',', null='None')\n",
    "    conn.commit()\n"
   ]
  },
  {
   "cell_type": "code",
   "execution_count": null,
   "id": "8e1beac4",
   "metadata": {},
   "outputs": [],
   "source": [
    "conn.close()"
   ]
  }
 ],
 "metadata": {
  "kernelspec": {
   "display_name": "Python 3 (ipykernel)",
   "language": "python",
   "name": "python3"
  },
  "language_info": {
   "codemirror_mode": {
    "name": "ipython",
    "version": 3
   },
   "file_extension": ".py",
   "mimetype": "text/x-python",
   "name": "python",
   "nbconvert_exporter": "python",
   "pygments_lexer": "ipython3",
   "version": "3.9.12"
  }
 },
 "nbformat": 4,
 "nbformat_minor": 5
}
