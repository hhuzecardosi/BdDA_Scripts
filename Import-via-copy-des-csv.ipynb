{
 "cells": [
  {
   "cell_type": "code",
   "execution_count": 1,
   "id": "a9053a99",
   "metadata": {},
   "outputs": [],
   "source": [
    "from classes.PostgresConnect import PostgresConnect\n",
    "import os"
   ]
  },
  {
   "cell_type": "code",
   "execution_count": 2,
   "id": "128bf572",
   "metadata": {},
   "outputs": [],
   "source": [
    "if(not os.path.exists('./csv/filtered/communes.csv')):\n",
    "    %run './remodelisations/communes.ipynb'\n",
    "\n",
    "if(not os.path.exists('./csv/filtered/departements.csv') or not os.path.exists('./csv/filtered/departements_cheflieu.csv')):\n",
    "    %run './remodelisations/dep.ipynb'\n",
    "\n",
    "if(not os.path.exists('./csv/filtered/regions.csv') or not os.path.exists('./csv/filtered/regions_cheflieu.csv')):\n",
    "    %run './remodelisations/regions.ipynb'\n",
    "\n",
    "if(not os.path.exists('./csv/filtered/indicateurs.csv') or not os.path.exists('./csv/filtered/statistiques.csv')):\n",
    "    %run './remodelisations/statistiques.ipynb'\n"
   ]
  },
  {
   "cell_type": "code",
   "execution_count": 3,
   "id": "61ef34d7",
   "metadata": {},
   "outputs": [],
   "source": [
    "postgres = PostgresConnect()\n",
    "postgres.connect()"
   ]
  },
  {
   "cell_type": "code",
   "execution_count": 4,
   "id": "713d4660",
   "metadata": {},
   "outputs": [],
   "source": [
    "tables = ['departements_cheflieu','regions_cheflieu', 'communes', 'departements', 'regions','indicateurs','statistiques']"
   ]
  },
  {
   "cell_type": "code",
   "execution_count": 5,
   "id": "89459366",
   "metadata": {},
   "outputs": [],
   "source": [
    "# A enlever avant rendu \n",
    "\n",
    "drop_tables = ''\n",
    "for table in tables:\n",
    "    drop_tables += f'DROP TABLE IF EXISTS {table} CASCADE;'\n"
   ]
  },
  {
   "cell_type": "code",
   "execution_count": 6,
   "id": "cdf2644f",
   "metadata": {},
   "outputs": [
    {
     "data": {
      "text/plain": [
       "<classes.PostgresConnect.PostgresConnect at 0x1220a6d90>"
      ]
     },
     "execution_count": 6,
     "metadata": {},
     "output_type": "execute_result"
    }
   ],
   "source": [
    "postgres.sql(drop_tables)"
   ]
  },
  {
   "cell_type": "code",
   "execution_count": 7,
   "id": "b286b167",
   "metadata": {},
   "outputs": [
    {
     "data": {
      "text/plain": [
       "<classes.PostgresConnect.PostgresConnect at 0x1220a6d90>"
      ]
     },
     "execution_count": 7,
     "metadata": {},
     "output_type": "execute_result"
    }
   ],
   "source": [
    "postgres.sql(open(\"sql/create.sql\", \"r\").read())"
   ]
  },
  {
   "cell_type": "code",
   "execution_count": 8,
   "id": "341db9dd",
   "metadata": {},
   "outputs": [],
   "source": [
    "files = [\n",
    "        'regions', \n",
    "        'departements',\n",
    "        'communes',\n",
    "        'departements_cheflieu',\n",
    "        'regions_cheflieu',\n",
    "        'indicateurs',\n",
    "        'statistiques'\n",
    "    ]\n",
    "\n",
    "for file in files:\n",
    "    path = f'./csv/filtered/{file}.csv'\n",
    "    f = open(path, 'r')\n",
    "    postgres.copy_from(f, file, ',', 'None', commit=True)\n",
    "    f.close()\n"
   ]
  },
  {
   "cell_type": "code",
   "execution_count": 9,
   "id": "36b7fe2c",
   "metadata": {},
   "outputs": [
    {
     "data": {
      "text/plain": [
       "[(34965,)]"
      ]
     },
     "execution_count": 9,
     "metadata": {},
     "output_type": "execute_result"
    }
   ],
   "source": [
    "postgres.sql('select count(*) from communes;').all()"
   ]
  },
  {
   "cell_type": "code",
   "execution_count": 10,
   "id": "8e1beac4",
   "metadata": {},
   "outputs": [],
   "source": [
    "postgres.close()"
   ]
  }
 ],
 "metadata": {
  "kernelspec": {
   "display_name": "Python 3 (ipykernel)",
   "language": "python",
   "name": "python3"
  },
  "language_info": {
   "codemirror_mode": {
    "name": "ipython",
    "version": 3
   },
   "file_extension": ".py",
   "mimetype": "text/x-python",
   "name": "python",
   "nbconvert_exporter": "python",
   "pygments_lexer": "ipython3",
   "version": "3.9.12"
  }
 },
 "nbformat": 4,
 "nbformat_minor": 5
}
