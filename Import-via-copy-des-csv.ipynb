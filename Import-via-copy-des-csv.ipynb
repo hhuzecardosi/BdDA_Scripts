{
 "cells": [
  {
   "cell_type": "code",
   "execution_count": 4,
   "id": "128bf572",
   "metadata": {},
   "outputs": [],
   "source": [
    "%run './remodelisations/communes.ipynb'\n",
    "%run './remodelisations/dep.ipynb'\n",
    "%run './remodelisations/regions.ipynb'\n"
   ]
  },
  {
   "cell_type": "code",
   "execution_count": 146,
   "id": "f2827bf3",
   "metadata": {},
   "outputs": [],
   "source": [
    "import psycopg2 as postgres"
   ]
  },
  {
   "cell_type": "code",
   "execution_count": 147,
   "id": "a7af7e75",
   "metadata": {},
   "outputs": [],
   "source": [
    "BASE = 'tp_dba'\n",
    "USER = 'axelmoriceau'\n",
    "PSWD = ''\n",
    "\n",
    "conn = postgres.connect(\n",
    "    host='localhost',\n",
    "    database=BASE,\n",
    "    user=USER,\n",
    "    password=PSWD,\n",
    "    port='5432'\n",
    ")\n",
    "\n",
    "cur = conn.cursor()\n"
   ]
  },
  {
   "cell_type": "code",
   "execution_count": 148,
   "id": "cdf2644f",
   "metadata": {},
   "outputs": [],
   "source": [
    "#cur.execute('DROP TABLE departements_cheflieu;DROP TABLE regions_cheflieu;DROP TABLE communes;DROP TABLE departements;DROP TABLE regions')\n",
    "#conn.commit()"
   ]
  },
  {
   "cell_type": "code",
   "execution_count": 149,
   "id": "b286b167",
   "metadata": {},
   "outputs": [],
   "source": [
    "cur.execute(open(\"sql/create.sql\", \"r\").read())\n",
    "conn.commit()"
   ]
  },
  {
   "cell_type": "code",
   "execution_count": 150,
   "id": "dd99df54",
   "metadata": {},
   "outputs": [],
   "source": [
    "region_path = '/Users/axelmoriceau/dev/cours/BDD_AVANCEE/BdDA_Scripts/csv/region_filtered.csv'\n",
    "\n",
    "cur.copy_from(open(region_path, 'r'), 'regions', sep=',')\n",
    "conn.commit()"
   ]
  },
  {
   "cell_type": "code",
   "execution_count": 151,
   "id": "e9d7ff76",
   "metadata": {},
   "outputs": [],
   "source": [
    "departement_path = '/Users/axelmoriceau/dev/cours/BDD_AVANCEE/BdDA_Scripts/csv/dep_filtered.csv'\n",
    "\n",
    "cur.copy_from(open(departement_path, 'r'), 'departements', sep=',')\n",
    "conn.commit()\n"
   ]
  },
  {
   "cell_type": "code",
   "execution_count": 152,
   "id": "153d16f2",
   "metadata": {},
   "outputs": [],
   "source": [
    "commune_path = '/Users/axelmoriceau/dev/cours/BDD_AVANCEE/BdDA_Scripts/csv/commune_filtered.csv'\n",
    "\n",
    "cur.copy_from(open(commune_path, 'r'), 'communes', sep=',')\n",
    "conn.commit()\n"
   ]
  },
  {
   "cell_type": "code",
   "execution_count": 153,
   "id": "e47c10ea",
   "metadata": {},
   "outputs": [],
   "source": [
    "departement_cl_path = '/Users/axelmoriceau/dev/cours/BDD_AVANCEE/BdDA_Scripts/csv/dep_chelieu_filtered.csv'\n",
    "\n",
    "cur.copy_from(open(departement_cl_path, 'r'), 'departements_cheflieu', sep=',')\n",
    "conn.commit()\n"
   ]
  },
  {
   "cell_type": "code",
   "execution_count": 154,
   "id": "b046c36a",
   "metadata": {},
   "outputs": [],
   "source": [
    "region_cl_path = '/Users/axelmoriceau/dev/cours/BDD_AVANCEE/BdDA_Scripts/csv/region_cheflieu_filtered.csv'\n",
    "\n",
    "cur.copy_from(open(region_cl_path, 'r'), 'regions_cheflieu', sep=',')\n",
    "conn.commit()\n"
   ]
  },
  {
   "cell_type": "code",
   "execution_count": 155,
   "id": "8e1beac4",
   "metadata": {},
   "outputs": [],
   "source": [
    "# conn.close()"
   ]
  }
 ],
 "metadata": {
  "kernelspec": {
   "display_name": "Python 3 (ipykernel)",
   "language": "python",
   "name": "python3"
  },
  "language_info": {
   "codemirror_mode": {
    "name": "ipython",
    "version": 3
   },
   "file_extension": ".py",
   "mimetype": "text/x-python",
   "name": "python",
   "nbconvert_exporter": "python",
   "pygments_lexer": "ipython3",
   "version": "3.9.12"
  }
 },
 "nbformat": 4,
 "nbformat_minor": 5
}
