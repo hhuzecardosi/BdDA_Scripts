{
 "cells": [
  {
   "cell_type": "code",
   "execution_count": 75,
   "id": "128bf572",
   "metadata": {},
   "outputs": [],
   "source": [
    "%run './remodelisations/communes.ipynb'\n",
    "%run './remodelisations/dep.ipynb'\n",
    "%run './remodelisations/regions.ipynb'\n",
    "# %run './remodelisations/statistiques.ipynb' # les stats ont des problèmes avec les fk -> ref vers des code de communes inconnues\n"
   ]
  },
  {
   "cell_type": "code",
   "execution_count": 76,
   "id": "f2827bf3",
   "metadata": {},
   "outputs": [],
   "source": [
    "import psycopg2 as postgres"
   ]
  },
  {
   "cell_type": "code",
   "execution_count": 77,
   "id": "a7af7e75",
   "metadata": {},
   "outputs": [],
   "source": [
    "BASE = 'tp_dba'\n",
    "USER = 'axelmoriceau'\n",
    "PSWD = ''\n",
    "\n",
    "conn = postgres.connect(\n",
    "    host='localhost',\n",
    "    database=BASE,\n",
    "    user=USER,\n",
    "    password=PSWD,\n",
    "    port='5432'\n",
    ")\n",
    "\n",
    "cur = conn.cursor()\n"
   ]
  },
  {
   "cell_type": "code",
   "execution_count": 78,
   "id": "713d4660",
   "metadata": {},
   "outputs": [],
   "source": [
    "tables = ['departements_cheflieu','regions_cheflieu', 'communes', 'departements', 'regions','indicateurs','statistiques']"
   ]
  },
  {
   "cell_type": "code",
   "execution_count": 79,
   "id": "89459366",
   "metadata": {},
   "outputs": [],
   "source": [
    "# A enlever avant rendu \n",
    "\n",
    "drop_tables = ''\n",
    "for table in tables:\n",
    "    drop_tables += f'DROP TABLE IF EXISTS {table} CASCADE;'\n"
   ]
  },
  {
   "cell_type": "code",
   "execution_count": 80,
   "id": "cdf2644f",
   "metadata": {},
   "outputs": [],
   "source": [
    "cur.execute(drop_tables)\n",
    "conn.commit()"
   ]
  },
  {
   "cell_type": "code",
   "execution_count": 81,
   "id": "b286b167",
   "metadata": {},
   "outputs": [],
   "source": [
    "cur.execute(open(\"sql/create.sql\", \"r\").read())\n",
    "conn.commit()"
   ]
  },
  {
   "cell_type": "code",
   "execution_count": 82,
   "id": "341db9dd",
   "metadata": {},
   "outputs": [],
   "source": [
    "files = [\n",
    "        'regions', \n",
    "        'departements',\n",
    "        'communes',\n",
    "        'departements_cheflieu',\n",
    "        'regions_cheflieu',\n",
    "        # 'statistiques'\n",
    "    ]\n",
    "\n",
    "for file in files:\n",
    "    path = f'./csv/filtered/{file}.csv'\n",
    "    cur.copy_from(open(path, 'r'), file, sep=',')\n",
    "    conn.commit()\n"
   ]
  },
  {
   "cell_type": "code",
   "execution_count": 83,
   "id": "8e1beac4",
   "metadata": {},
   "outputs": [],
   "source": [
    "conn.close()"
   ]
  }
 ],
 "metadata": {
  "kernelspec": {
   "display_name": "Python 3 (ipykernel)",
   "language": "python",
   "name": "python3"
  },
  "language_info": {
   "codemirror_mode": {
    "name": "ipython",
    "version": 3
   },
   "file_extension": ".py",
   "mimetype": "text/x-python",
   "name": "python",
   "nbconvert_exporter": "python",
   "pygments_lexer": "ipython3",
   "version": "3.9.12"
  }
 },
 "nbformat": 4,
 "nbformat_minor": 5
}
