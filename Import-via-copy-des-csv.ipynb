{
 "cells": [
  {
   "cell_type": "code",
   "execution_count": 190,
   "id": "128bf572",
   "metadata": {},
   "outputs": [],
   "source": [
    "%run './remodelisations/communes.ipynb'\n",
    "%run './remodelisations/dep.ipynb'\n",
    "%run './remodelisations/regions.ipynb'\n",
    "# %run './remodelisations/statistiques.ipynb' # les stats ont des problèmes avec les fk -> ref vers des code de communes inconnues\n"
   ]
  },
  {
   "cell_type": "code",
   "execution_count": 321,
   "id": "f2827bf3",
   "metadata": {},
   "outputs": [],
   "source": [
    "import psycopg2 as postgres"
   ]
  },
  {
   "cell_type": "code",
   "execution_count": 322,
   "id": "a7af7e75",
   "metadata": {},
   "outputs": [],
   "source": [
    "BASE = 'tp_dba'\n",
    "USER = 'axelmoriceau'\n",
    "PSWD = ''\n",
    "\n",
    "conn = postgres.connect(\n",
    "    host='localhost',\n",
    "    database=BASE,\n",
    "    user=USER,\n",
    "    password=PSWD,\n",
    "    port='5432'\n",
    ")\n",
    "\n",
    "cur = conn.cursor()\n"
   ]
  },
  {
   "cell_type": "code",
   "execution_count": 323,
   "id": "8e687e31",
   "metadata": {},
   "outputs": [],
   "source": [
    "years = ['1968', '1975', '1982', '1990', '1999', '2008', '2013', '2018']\n",
    "stats = []\n",
    "for year in years:\n",
    "    stats.append(f'stats_{year}')\n"
   ]
  },
  {
   "cell_type": "code",
   "execution_count": 324,
   "id": "dea009b1",
   "metadata": {},
   "outputs": [],
   "source": [
    "# A enlever avant rendu\n",
    "\n",
    "drop_stats = ''\n",
    "for stat in stats:\n",
    "    drop_stats += f'DROP TABLE IF EXISTS {stat};'"
   ]
  },
  {
   "cell_type": "code",
   "execution_count": 325,
   "id": "713d4660",
   "metadata": {},
   "outputs": [],
   "source": [
    "tables = ['departements_cheflieu','regions_cheflieu', 'communes', 'departements', 'regions']"
   ]
  },
  {
   "cell_type": "code",
   "execution_count": 326,
   "id": "89459366",
   "metadata": {},
   "outputs": [],
   "source": [
    "# A enlever avant rendu \n",
    "\n",
    "drop_tables = ''\n",
    "for table in tables:\n",
    "    drop_tables += f'DROP TABLE IF EXISTS {table};'\n"
   ]
  },
  {
   "cell_type": "code",
   "execution_count": 327,
   "id": "cdf2644f",
   "metadata": {},
   "outputs": [],
   "source": [
    "cur.execute(drop_stats)\n",
    "cur.execute(drop_tables)\n",
    "conn.commit()"
   ]
  },
  {
   "cell_type": "code",
   "execution_count": 328,
   "id": "b286b167",
   "metadata": {},
   "outputs": [],
   "source": [
    "cur.execute(open(\"sql/create.sql\", \"r\").read())\n",
    "conn.commit()"
   ]
  },
  {
   "cell_type": "code",
   "execution_count": 329,
   "id": "341db9dd",
   "metadata": {},
   "outputs": [],
   "source": [
    "years = ['1968', '1975', '1982', '1990', '1999', '2008', '2013', '2018']\n",
    "\n",
    "files = [\n",
    "        'regions', \n",
    "        'departements',\n",
    "        'communes',\n",
    "        'departements_cheflieu',\n",
    "        'regions_cheflieu',\n",
    "    ] + stats\n",
    "\n",
    "for file in files:\n",
    "    path = f'./csv/filtered/{file}.csv'\n",
    "    cur.copy_from(open(path, 'r'), file, sep=',')\n",
    "    conn.commit()\n"
   ]
  },
  {
   "cell_type": "code",
   "execution_count": 330,
   "id": "8e1beac4",
   "metadata": {},
   "outputs": [],
   "source": [
    "conn.close()"
   ]
  }
 ],
 "metadata": {
  "kernelspec": {
   "display_name": "Python 3 (ipykernel)",
   "language": "python",
   "name": "python3"
  },
  "language_info": {
   "codemirror_mode": {
    "name": "ipython",
    "version": 3
   },
   "file_extension": ".py",
   "mimetype": "text/x-python",
   "name": "python",
   "nbconvert_exporter": "python",
   "pygments_lexer": "ipython3",
   "version": "3.9.12"
  }
 },
 "nbformat": 4,
 "nbformat_minor": 5
}
