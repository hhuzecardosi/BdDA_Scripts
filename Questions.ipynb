{
 "cells": [
  {
   "cell_type": "code",
   "execution_count": 20,
   "metadata": {},
   "outputs": [],
   "source": [
    "import psycopg2 as postgres\n",
    "\n",
    "BASE = 'tp_dba'\n",
    "USER = 'axelmoriceau'\n",
    "PSWD = ''\n",
    "\n",
    "conn = postgres.connect(\n",
    "    host='localhost',\n",
    "    database=BASE,\n",
    "    user=USER,\n",
    "    password=PSWD,\n",
    "    port='5432'\n",
    ")\n",
    "\n",
    "cur = conn.cursor()"
   ]
  },
  {
   "cell_type": "code",
   "execution_count": 7,
   "metadata": {},
   "outputs": [],
   "source": [
    "# Question 1\n",
    "cur.execute(open(\"sql/questions/question_1#1.sql\", \"r\").read())\n",
    "conn.commit()\n",
    "data = cur.fetchall()\n",
    "\n",
    "print('Les 10 villes les plus peuplées de France en 2018:')\n",
    "for ville in data:\n",
    "    print(f'\\t- {ville[0]}: {ville[1]:,} habitants')\n"
   ]
  },
  {
   "cell_type": "code",
   "execution_count": 28,
   "metadata": {},
   "outputs": [
    {
     "name": "stdout",
     "output_type": "stream",
     "text": [
      "Évolution de la population Française au fil des années:\n",
      "\t- Année 1968: 50,798,112 habitants -> +0 habitants (0%)\n",
      "\t- Année 1975: 53,764,064 habitants -> +2,965,952 habitants (5.516606780320774%)\n",
      "\t- Année 1982: 55,569,542 habitants -> +1,805,478 habitants (3.2490424340729676%)\n",
      "\t- Année 1990: 58,040,659 habitants -> +2,471,117 habitants (4.257561927406786%)\n",
      "\t- Année 1999: 60,149,901 habitants -> +2,109,242 habitants (3.506642513010952%)\n",
      "\t- Année 2008: 63,961,859 habitants -> +3,811,958 habitants (5.959736098351988%)\n",
      "\t- Année 2013: 65,564,756 habitants -> +1,602,897 habitants (2.444754007778203%)\n",
      "\t- Année 2018: 66,732,538 habitants -> +1,167,782 habitants (1.7499439328982211%)\n"
     ]
    }
   ],
   "source": [
    "# Question 2\n",
    "cur.execute(open(\"sql/questions/question_1#2.sql\", \"r\").read())\n",
    "conn.commit()\n",
    "data = cur.fetchall()\n",
    "\n",
    "print('Évolution de la population Française au fil des années:')\n",
    "for population in data:\n",
    "    population = [0 if v is None else v for v in population]\n",
    "    print(f'\\t- Année {population[0]}: {population[1]:,} habitants -> +{population[2]:,} habitants ({population[3]}%)')\n"
   ]
  },
  {
   "cell_type": "code",
   "execution_count": 29,
   "metadata": {},
   "outputs": [
    {
     "data": {
      "text/plain": [
       "[('75056', 'Paris', 'ILE DE FRANCE', 2175601),\n",
       " ('13055', 'Marseille', 'PROVENCE ALPES COTE D AZUR', 868277),\n",
       " ('69123', 'Lyon', 'AUVERGNE RHONE ALPES', 518635),\n",
       " ('31555', 'Toulouse', 'OCCITANIE', 486828),\n",
       " ('44109', 'Nantes', 'PAYS DE LA LOIRE', 314138),\n",
       " ('67482', 'Strasbourg', 'GRAND EST', 284677),\n",
       " ('33063', 'Bordeaux', 'NOUVELLE AQUITAINE', 257068),\n",
       " ('59350', 'Lille', 'HAUTS DE FRANCE', 233098),\n",
       " ('35238', 'Rennes', 'BRETAGNE', 217728),\n",
       " ('76351', 'Le Havre', 'NORMANDIE', 169733),\n",
       " ('21231', 'Dijon', 'BOURGOGNE FRANCHE COMTE', 156854),\n",
       " ('97411', 'Saint-Denis', 'LA REUNION', 150535),\n",
       " ('37261', 'Tours', 'CENTRE VAL DE LOIRE', 136463),\n",
       " ('97209', 'Fort-de-France', 'MARTINIQUE', 78126),\n",
       " ('2A004', 'Ajaccio', 'CORSE', 70817),\n",
       " ('97302', 'Cayenne', 'GUYANE', 63652),\n",
       " ('97101', 'Les Abymes', 'GUADELOUPE', 53082)]"
      ]
     },
     "execution_count": 29,
     "metadata": {},
     "output_type": "execute_result"
    }
   ],
   "source": [
    "# Question 3\n",
    "cur.execute(open(\"sql/questions/question_1#3.sql\", \"r\").read())\n",
    "conn.commit()\n",
    "data = cur.fetchall()\n",
    "\n",
    "print('Ville la plus peuplée de chaque région en 2018:')\n",
    "for population in data:\n",
    "    print(f'\\t- Région {population[2]} -> {population[1]} ({population[0]}): {population[3]:,} habitants')\n"
   ]
  },
  {
   "cell_type": "code",
   "execution_count": 9,
   "metadata": {},
   "outputs": [],
   "source": [
    "conn.close()"
   ]
  }
 ],
 "metadata": {
  "interpreter": {
   "hash": "aee8b7b246df8f9039afb4144a1f6fd8d2ca17a180786b69acc140d282b71a49"
  },
  "kernelspec": {
   "display_name": "Python 3.9.12 64-bit",
   "language": "python",
   "name": "python3"
  },
  "language_info": {
   "codemirror_mode": {
    "name": "ipython",
    "version": 3
   },
   "file_extension": ".py",
   "mimetype": "text/x-python",
   "name": "python",
   "nbconvert_exporter": "python",
   "pygments_lexer": "ipython3",
   "version": "3.9.12"
  },
  "orig_nbformat": 4
 },
 "nbformat": 4,
 "nbformat_minor": 2
}
