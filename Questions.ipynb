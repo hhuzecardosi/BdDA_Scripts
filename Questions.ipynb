{
 "cells": [
  {
   "cell_type": "code",
   "execution_count": 25,
   "metadata": {},
   "outputs": [],
   "source": [
    "import pandas as pd\n",
    "import psycopg2 as postgres\n"
   ]
  },
  {
   "cell_type": "code",
   "execution_count": 26,
   "metadata": {},
   "outputs": [],
   "source": [
    "BASE = 'tp_dba'\n",
    "USER = 'axelmoriceau'\n",
    "PSWD = ''\n",
    "\n",
    "conn = postgres.connect(\n",
    "    host='localhost',\n",
    "    database=BASE,\n",
    "    user=USER,\n",
    "    password=PSWD,\n",
    "    port='5432'\n",
    ")\n",
    "\n",
    "cur = conn.cursor()"
   ]
  },
  {
   "cell_type": "code",
   "execution_count": 27,
   "metadata": {},
   "outputs": [],
   "source": [
    "cur.execute(open(\"sql/questions/reset.sql\", \"r\").read())"
   ]
  },
  {
   "cell_type": "code",
   "execution_count": 28,
   "metadata": {},
   "outputs": [
    {
     "name": "stdout",
     "output_type": "stream",
     "text": [
      "Les départements qui correspondent a la région aquitaine:\n",
      "\t- Charente\n",
      "\t- Charente-Maritime\n",
      "\t- Corrèze\n",
      "\t- Creuse\n",
      "\t- Deux-Sèvres\n",
      "\t- Dordogne\n",
      "\t- Gironde\n",
      "\t- Haute-Vienne\n",
      "\t- Landes\n",
      "\t- Lot-et-Garonne\n",
      "\t- Pyrénées-Atlantiques\n",
      "\t- Vienne\n"
     ]
    }
   ],
   "source": [
    "# requête interactive\n",
    "region = 'aquitaine' # mettre a jour le contenu ici pour changer de région (i.e: tagne -> Bretagne, compte -> Franche compté etc)\n",
    "\n",
    "cur.execute(\"select d.libelle from departements d join regions r using(reg) where r.ncc LIKE UPPER(%(region)s) or r.libelle LIKE UPPER(%(region)s) order by d.libelle\", {'region': f'%{region}%'})\n",
    "conn.commit()\n",
    "data = cur.fetchall()\n",
    "\n",
    "print(f'Les départements qui correspondent a la région {region}:')\n",
    "for dep in data:\n",
    "    print(f'\\t- {dep[0]}')\n"
   ]
  },
  {
   "cell_type": "code",
   "execution_count": 29,
   "metadata": {},
   "outputs": [
    {
     "name": "stdout",
     "output_type": "stream",
     "text": [
      "Information pour l'indicateur pop pour la commune bordeaux (33 )\n",
      "\t1968: 266,662.0\n",
      "\t1975: 223,131.0\n",
      "\t1982: 208,159.0\n",
      "\t1990: 210,336.0\n",
      "\t1999: 215,363.0\n",
      "\t2008: 235,891.0\n",
      "\t2013: 243,626.0\n",
      "\t2018: 257,068.0\n"
     ]
    }
   ],
   "source": [
    "commune = 'bordeaux'  # le nom de la ville doit être exact, sans accent ni caractère spéciaux\n",
    "indicateur = 'pop'  # parmis DECE, LOG, LOGVAC, NAIS, NPER, PMEN, POP, RP, RSECOCC, SUPERF\n",
    "\n",
    "cur.execute(\"select annee, ncc, dep,valeur from communes c join statistiques s on s.codgeo = c.com where upper(s.indicateur) = upper(%(indicateur)s) and c.ncc = upper( %(commune)s)\", \n",
    "            {'commune': commune, 'indicateur': indicateur})\n",
    "conn.commit()\n",
    "data = cur.fetchall()\n",
    "\n",
    "if(len(data)):\n",
    "    print(f\"Information pour l'indicateur {indicateur} pour la commune {commune} ({data[0][2]})\")\n",
    "    for info in data:\n",
    "        print(f'\\t{info[0]}: {info[3]:,}')\n",
    "else:\n",
    "    print(f'aucune information pour la commune de {commune} et l\\'indicateur {indicateur}')"
   ]
  },
  {
   "cell_type": "code",
   "execution_count": 30,
   "metadata": {},
   "outputs": [
    {
     "name": "stdout",
     "output_type": "stream",
     "text": [
      "Les 10 villes les plus peuplées de France en 2018:\n",
      "\t- Paris: 2,175,601 habitants\n",
      "\t- Marseille: 868,277 habitants\n",
      "\t- Lyon: 518,635 habitants\n",
      "\t- Toulouse: 486,828 habitants\n",
      "\t- Nice: 341,032 habitants\n",
      "\t- Nantes: 314,138 habitants\n",
      "\t- Montpellier: 290,053 habitants\n",
      "\t- Strasbourg: 284,677 habitants\n",
      "\t- Bordeaux: 257,068 habitants\n",
      "\t- Lille: 233,098 habitants\n"
     ]
    }
   ],
   "source": [
    "# Question 1\n",
    "cur.execute(open(\"sql/questions/question_1/question_1#1.sql\", \"r\").read())\n",
    "conn.commit()\n",
    "data = cur.fetchall()\n",
    "\n",
    "print('Les 10 villes les plus peuplées de France en 2018:')\n",
    "for ville in data:\n",
    "    print(f'\\t- {ville[0]}: {ville[1]:,} habitants')\n"
   ]
  },
  {
   "cell_type": "code",
   "execution_count": 31,
   "metadata": {},
   "outputs": [
    {
     "name": "stdout",
     "output_type": "stream",
     "text": [
      "Évolution de la population Française au fil des années:\n",
      "\n",
      "\t- Année 1968: 50,798,112 habitants -> +0 habitants (0%)\n",
      "\t\t- Naissances: 6,149,732 | Décès: 3,909,870\n",
      "\n",
      "\t- Année 1975: 53,764,064 habitants -> +2,965,952 habitants (5.516606780320774%)\n",
      "\t\t- Naissances: 5,532,080 | Décès: 3,911,267\n",
      "\t\t- Augmentation: 2,965,952 || Naissances - Décès: 1,620,813 || Différence: 1,345,139\n",
      "\n",
      "\t- Année 1982: 55,569,542 habitants -> +1,805,478 habitants (3.2490424340729676%)\n",
      "\t\t- Naissances: 6,363,297 | Décès: 4,375,209\n",
      "\t\t- Augmentation: 1,805,478 || Naissances - Décès: 1,988,088 || Différence: -182,610\n",
      "\n",
      "\t- Année 1990: 58,040,659 habitants -> +2,471,117 habitants (4.257561927406786%)\n",
      "\t\t- Naissances: 6,877,418 | Décès: 4,819,081\n",
      "\t\t- Augmentation: 2,471,117 || Naissances - Décès: 2,058,337 || Différence: 412,780\n",
      "\n",
      "\t- Année 1999: 60,149,901 habitants -> +2,109,242 habitants (3.506642513010952%)\n",
      "\t\t- Naissances: 7,211,899 | Décès: 4,833,385\n",
      "\t\t- Augmentation: 2,109,242 || Naissances - Décès: 2,378,514 || Différence: -269,272\n",
      "\n",
      "\t- Année 2008: 63,961,859 habitants -> +3,811,958 habitants (5.959736098351988%)\n",
      "\t\t- Naissances: 4,122,043 | Décès: 2,747,875\n",
      "\t\t- Augmentation: 3,811,958 || Naissances - Décès: 1,374,168 || Différence: 2,437,790\n",
      "\n",
      "\t- Année 2013: 65,564,756 habitants -> +1,602,897 habitants (2.444754007778203%)\n",
      "\t\t- Naissances: 3,936,486 | Décès: 2,909,198\n",
      "\t\t- Augmentation: 1,602,897 || Naissances - Décès: 1,027,288 || Différence: 575,609\n"
     ]
    }
   ],
   "source": [
    "# Question 2\n",
    "cur.execute(open(\"sql/questions/question_1/question_1#2.sql\", \"r\").read())\n",
    "conn.commit()\n",
    "data = cur.fetchall()\n",
    "\n",
    "print('Évolution de la population Française au fil des années:')\n",
    "for population in data:\n",
    "    population = [0 if v is None else v for v in population]\n",
    "    print(f'\\n\\t- Année {population[0]}: {population[1]:,} habitants -> +{population[2]:,} habitants ({population[3]}%)')\n",
    "    print(f'\\t\\t- Naissances: {population[4]:,} | Décès: {population[5]:,}')\n",
    "    if(population[2]):\n",
    "        print(f'\\t\\t- Augmentation: {population[2]:,} || Naissances - Décès: {population[4] - population[5]:,} || Différence: {population[2]-(population[4] - population[5]):,}')\n"
   ]
  },
  {
   "cell_type": "code",
   "execution_count": 32,
   "metadata": {},
   "outputs": [
    {
     "name": "stdout",
     "output_type": "stream",
     "text": [
      "Ville la plus peuplée de chaque région en 2018:\n",
      "\t- Région Île-de-France -> Paris (75056): 2,175,601 habitants\n",
      "\t- Région Provence-Alpes-Côte d'Azur -> Marseille (13055): 868,277 habitants\n",
      "\t- Région Auvergne-Rhône-Alpes -> Lyon (69123): 518,635 habitants\n",
      "\t- Région Occitanie -> Toulouse (31555): 486,828 habitants\n",
      "\t- Région Pays de la Loire -> Nantes (44109): 314,138 habitants\n",
      "\t- Région Grand Est -> Strasbourg (67482): 284,677 habitants\n",
      "\t- Région Nouvelle-Aquitaine -> Bordeaux (33063): 257,068 habitants\n",
      "\t- Région Hauts-de-France -> Lille (59350): 233,098 habitants\n",
      "\t- Région Bretagne -> Rennes (35238): 217,728 habitants\n",
      "\t- Région Normandie -> Le Havre (76351): 169,733 habitants\n",
      "\t- Région Bourgogne-Franche-Comté -> Dijon (21231): 156,854 habitants\n",
      "\t- Région La Réunion -> Saint-Denis (97411): 150,535 habitants\n",
      "\t- Région Centre-Val de Loire -> Tours (37261): 136,463 habitants\n",
      "\t- Région Martinique -> Fort-de-France (97209): 78,126 habitants\n",
      "\t- Région Corse -> Ajaccio (2A004): 70,817 habitants\n",
      "\t- Région Guyane -> Cayenne (97302): 63,652 habitants\n",
      "\t- Région Guadeloupe -> Les Abymes (97101): 53,082 habitants\n"
     ]
    }
   ],
   "source": [
    "# Question 3\n",
    "cur.execute(open(\"sql/questions/question_1/question_1#3.sql\", \"r\").read())\n",
    "conn.commit()\n",
    "data = cur.fetchall()\n",
    "\n",
    "print('Ville la plus peuplée de chaque région en 2018:')\n",
    "for population in data:\n",
    "    print(f'\\t- Région {population[2]} -> {population[1]} ({population[0]}): {population[3]:,} habitants')\n"
   ]
  },
  {
   "cell_type": "code",
   "execution_count": 33,
   "metadata": {},
   "outputs": [],
   "source": [
    "# Création des vues\n",
    "\n",
    "cur.execute(open(\"sql/questions/question_2/question_2#vue_region.sql\", \"r\").read())\n",
    "cur.execute(open(\"sql/questions/question_2/question_2#vue_departements.sql\", \"r\").read())\n",
    "conn.commit()\n"
   ]
  },
  {
   "cell_type": "code",
   "execution_count": 34,
   "metadata": {},
   "outputs": [
    {
     "name": "stdout",
     "output_type": "stream",
     "text": [
      "AUVERGNE RHONE ALPES: None\n",
      "BOURGOGNE FRANCHE COMTE: None\n",
      "BRETAGNE: None\n",
      "CENTRE VAL DE LOIRE: None\n",
      "CORSE: None\n"
     ]
    }
   ],
   "source": [
    "# Ajout des colonnes population\n",
    "cur.execute(open(\"sql/questions/question_3/alter_tables.sql\", \"r\").read())\n",
    "cur.execute(\"select ncc,population from regions order by ncc limit 5;\")\n",
    "conn.commit()\n",
    "\n",
    "data = cur.fetchall()\n",
    "for region in data:\n",
    "    print(f'{region[0]}: {region[1]}')\n"
   ]
  },
  {
   "cell_type": "code",
   "execution_count": 35,
   "metadata": {},
   "outputs": [
    {
     "name": "stdout",
     "output_type": "stream",
     "text": [
      "AUVERGNE RHONE ALPES: 7994459\n",
      "BOURGOGNE FRANCHE COMTE: 2807807\n",
      "BRETAGNE: 3335414\n",
      "CENTRE VAL DE LOIRE: 2572853\n",
      "CORSE: 338554\n"
     ]
    }
   ],
   "source": [
    "\n",
    "# Creation et appel de la procédure\n",
    "cur.execute(open(\"sql/questions/question_3/procedure.sql\", \"r\").read())\n",
    "cur.execute(\"call proc_update_population()\")\n",
    "cur.execute(\"select ncc,population from regions order by ncc limit 5;\")\n",
    "conn.commit()\n",
    "\n",
    "data = cur.fetchall()\n",
    "for region in data:\n",
    "    print(f'{region[0]}: {region[1]}')\n"
   ]
  },
  {
   "cell_type": "code",
   "execution_count": 36,
   "metadata": {},
   "outputs": [],
   "source": [
    "conn.close()"
   ]
  }
 ],
 "metadata": {
  "interpreter": {
   "hash": "aee8b7b246df8f9039afb4144a1f6fd8d2ca17a180786b69acc140d282b71a49"
  },
  "kernelspec": {
   "display_name": "Python 3.9.12 64-bit",
   "language": "python",
   "name": "python3"
  },
  "language_info": {
   "codemirror_mode": {
    "name": "ipython",
    "version": 3
   },
   "file_extension": ".py",
   "mimetype": "text/x-python",
   "name": "python",
   "nbconvert_exporter": "python",
   "pygments_lexer": "ipython3",
   "version": "3.9.12"
  },
  "orig_nbformat": 4
 },
 "nbformat": 4,
 "nbformat_minor": 2
}
